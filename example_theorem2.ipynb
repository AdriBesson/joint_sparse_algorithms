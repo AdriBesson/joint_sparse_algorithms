{
 "cells": [
  {
   "cell_type": "markdown",
   "metadata": {
    "collapsed": true
   },
   "source": [
    "## Joint Sparsity With Partially Known Support - An illustrative example"
   ]
  },
  {
   "cell_type": "markdown",
   "metadata": {},
   "source": [
    "This notebook helps the reader in understanding the benefits of partially known support in joint-sparse algorithms, described in the following paper:\n"
   ]
  },
  {
   "cell_type": "code",
   "execution_count": null,
   "metadata": {},
   "outputs": [
    {
     "name": "stderr",
     "output_type": "stream",
     "text": [
      "/home/abesson/anaconda3/envs/spl2018/lib/python3.6/site-packages/h5py/__init__.py:36: FutureWarning: Conversion of the second argument of issubdtype from `float` to `np.floating` is deprecated. In future, it will be treated as `np.float64 == np.dtype(float).type`.\n",
      "  from ._conv import register_converters as _register_converters\n"
     ]
    }
   ],
   "source": [
    "import numpy as np\n",
    "import matplotlib.pyplot as plt\n",
    "import subspacemethods.music as music\n",
    "import cs_algorithms.greedy.omp as omp\n",
    "import cs_algorithms.greedy.iht as iht\n",
    "import utils as ut"
   ]
  },
  {
   "cell_type": "markdown",
   "metadata": {},
   "source": [
    "### 1. Problem of interest\n",
    "\n",
    "We are interested in solving a joint-sparse recovery problem where we would like to retrieve a k-row sparse vector $\\mathsf{X} \\in \\mathbb{K}^{n \\times N}$ from linear measurements $\\mathsf{Y} = \\mathsf{A} \\mathsf{A}$, where $\\mathsf{X} \\in \\mathbb{K}^{m \\times n}$.\n",
    "\n",
    "We focus on the following combinatorial optimization problem, called the MMV problem (MMV is for multiple measurement vector):\n",
    "$$\\min \\limits_{\\mathsf{X} \\in \\mathbb{K}^{n \\times N}} ||\\mathsf{X}||_{0, row} \\text{ subject to } \\mathsf{Y} = \\mathsf{A} \\mathsf{X}$$\n",
    "\n",
    "We introduce $\\text{supp} \\left(\\mathsf{X}\\right) = \\cup_{i=1}^{N} \\text{supp} \\left( \\mathbf{X}_i\\right)$, such that $||\\mathsf{X}||_{0, row} = |\\text{supp} \\left(\\mathsf{X}\\right)|$. We consider that $||\\mathsf{X}||_{0, row} = k$ and we also assume that part of the support is known such that $\\text{supp} \\left(\\mathsf{X}\\right) = J_0 \\cup J_1$, where $J_0$ is known.\n"
   ]
  },
  {
   "cell_type": "markdown",
   "metadata": {},
   "source": [
    "### 2. The basics: Recovery guarantee in the general case\n",
    "#### a. Recovery guarantee for the SMV problem\n",
    "The SMV problem, where $N=1$, is very well-known in the literature, mostly with the emergence of compressed sensing. In such a case, a necessary and sufficient recovery confition for the unique recovery of the vector $\\mathbf{x}$ from measurements $\\mathbf{y} = \\mathsf{A} \\mathbf{x}$ is given by \n",
    "$$|\\text{supp} \\left(\\mathbf{x}\\right)| < \\frac{\\text{spark} \\left(\\mathsf{A}\\right)}{2},$$ where $\\text{spark} \\left(\\mathsf{A}\\right)$ is the minimum number of linearly depdendent columns of $\\mathsf{A}$.\n",
    "\n",
    "Since $\\text{spark} \\left(\\mathsf{A}\\right) \\leq m + 1$, we immediately have an upper-bound on the number of measurements $ m \\geq 2k$.\n",
    "\n",
    "Let's run a simple example!\n"
   ]
  },
  {
   "cell_type": "code",
   "execution_count": 4,
   "metadata": {},
   "outputs": [
    {
     "name": "stdout",
     "output_type": "stream",
     "text": [
      "Number of measurements: 30\n",
      "Support recovery - IHT: True\n"
     ]
    },
    {
     "name": "stderr",
     "output_type": "stream",
     "text": [
      "/home/abesson/anaconda3/envs/spl2018/lib/python3.6/site-packages/numpy/core/numeric.py:492: ComplexWarning: Casting complex values to real discards the imaginary part\n",
      "  return array(a, dtype, copy=False, order=order)\n"
     ]
    },
    {
     "data": {
      "image/png": "[encoded data removed]",
      "text/plain": [
       "<Figure size 432x288 with 1 Axes>"
      ]
     },
     "metadata": {},
     "output_type": "display_data"
    }
   ],
   "source": [
    "# General parameters of the simulation\n",
    "n = 64\n",
    "N = 16\n",
    "k = 10\n",
    "m = 30\n",
    "print('Number of measurements: {}'.format(m))\n",
    "\n",
    "# Seed number\n",
    "prng = np.random.RandomState(seed=2)\n",
    "\n",
    "# Generate Gaussian sensing matrix\n",
    "stdev = 1 / np.sqrt(m)\n",
    "A = ut.gaussian_matrix(m, n, mean=0, stdev=stdev, orthogonalize=True)\n",
    "\n",
    "# Signal vector\n",
    "x = np.random.randn(n, 1)\n",
    "ind = np.random.permutation(n)\n",
    "x[ind[:n-k]] = 0\n",
    "supp_x = ind[n-k:]\n",
    "\n",
    "# Measurements\n",
    "y = np.matmul(A, x)\n",
    "\n",
    "# CS signal recovery with orthogonal matching pursuit\n",
    "iht_algo = iht.IHT(measurements=y, A=A, k=k, acceleration='normalized', verbose='NONE')\n",
    "x_rec, supp_x_rec = iht_algo.solve()\n",
    "\n",
    "# Support recovery\n",
    "proba_recovery_smv = set(supp_x_rec) == set(supp_x)\n",
    "print('Support recovery - IHT: {}'.format(proba_recovery_smv))\n",
    "\n",
    "# Display the results\n",
    "plt.figure()\n",
    "plt.plot(x, color='red', marker='x', label='Reference')\n",
    "plt.plot(x_rec, color='blue', marker='o', linestyle='None', label=iht_algo.name)\n",
    "plt.legend()\n",
    "plt.show()\n"
   ]
  },
  {
   "cell_type": "markdown",
   "metadata": {},
   "source": [
    "#### b. Rank-aware recovery guarantee for the MMV problem\n",
    "In the general case, when no partial support is known, Chen and Huo have established interesting theoretical guarantees for the MMV problem. In particular, they have demonstrated that a matrix $\\mathsf{X}$ will be the unique solution of the MMV problem if \n",
    "$$|\\text{supp} \\left(\\mathsf{X}\\right)| < \\frac{\\text{spark} \\left(\\mathsf{A}\\right) + \\text{rank} \\left(\\mathsf{Y}\\right) - 1}{2}.$$\n",
    "\n",
    "Compared to the SMV problem, the MMV problem takes into account additional information contained in the measurement subspace $\\mathcal{R} \\left(\\mathsf{Y}\\right)$. Indeed, let us consider that that $\\text{rank} \\left( \\mathsf{X} \\right) = k$ (the non-zero rows of $\\mathsf{X}$ are linearly independent). We introduce the set of indices of non-zero rows of $\\mathsf{X}$ as $J \\subset \\left\\lbrace 1, \\ldots, n \\right\\rbrace$ and we also define $\\mathsf{X}_{(J)}$ (resp $\\mathsf{X}_{J}$) the restriction of $\\mathsf{X}$ to the rows (resp. columns) indexed in $J$. Let us finally consider that $\\text{spark} \\left(\\mathsf{A}\\right) > k$.\n",
    "\n",
    "It is clear that $\\mathsf{Y} = \\mathsf{A}_{J} \\mathsf{X}_{\\left( J\\right)}$. Such a simple statement enlightens the relationship between $\\text{rank} \\left(\\mathsf{Y}\\right)$ and $|\\text{supp} \\left(\\mathsf{X}\\right)|$ since $\\text{rank} \\left(\\mathsf{Y}\\right) = k$. Thus, the dimension of $\\mathcal{R} \\left(\\mathsf{Y}\\right)$ is conditioned by the row-sparsity of $\\mathsf{X}$.\n",
    "\n",
    "We can even go further. Because of the above assumptions, we can notice that $\\mathcal{R} \\left(\\mathsf{Y}\\right) = \\mathcal{R} \\left(\\mathsf{A}_{J}\\right)$.\n",
    "Thus, by identifying the columns of $\\mathsf{A}$ that belong to $\\mathcal{R} \\left(\\mathsf{Y}\\right)$ one should be able to identify $\\text{supp} \\left(\\mathsf{X}\\right)$. This is the principle of subspace methods that have been developed in the context of MMV problems.\n",
    "\n",
    "Let's draw a simple example to illustrate this!"
   ]
  },
  {
   "cell_type": "code",
   "execution_count": 5,
   "metadata": {},
   "outputs": [
    {
     "name": "stdout",
     "output_type": "stream",
     "text": [
      "Number of measurements: 11\n",
      "******** MUSIC algorithm ********\n",
      "Support recovery - MUSIC: True\n"
     ]
    }
   ],
   "source": [
    "# General parameters of the simulation\n",
    "s = k\n",
    "m = k+1\n",
    "print('Number of measurements: {}'.format(m))\n",
    "\n",
    "# Generate Gaussian sensing matrix\n",
    "stdev = 1 / np.sqrt(m)\n",
    "A = ut.gaussian_matrix(m, n, mean=0, stdev=stdev, orthogonalize=True)\n",
    "\n",
    "# Signal matrix with full rank\n",
    "X = np.random.randn(n, N)\n",
    "\n",
    "# Mask the signal matrix to make it k-row sparse\n",
    "row_supp = np.random.permutation(n)\n",
    "row_supp = np.sort(row_supp[:k])\n",
    "mask = np.zeros(shape=(n, 1))\n",
    "mask[row_supp] = 1\n",
    "X = mask * X\n",
    "\n",
    "# Measurements\n",
    "Y = np.matmul(A, X)\n",
    "\n",
    "# MMV signal recovery with MUSIC\n",
    "music_mmv = music.MUSIC(measurements=Y, A=A, k=k, rank=k)\n",
    "X_rec, supp_X_rec = music_mmv.solve()\n",
    "\n",
    "# Support recovery\n",
    "proba_recovery_mmv = set(supp_X_rec) == set(row_supp)\n",
    "print('Support recovery - MUSIC: {}'.format(proba_recovery_mmv))\n"
   ]
  },
  {
   "cell_type": "markdown",
   "metadata": {},
   "source": [
    "### 3. Recovery guarantee with partially known support\n",
    "#### a. Recovery guarantee for the SMV problem\n",
    "The SMV problem with partially known support has been introduced by Vaswani and Lu under the acronym of 'modified-CS´. Their idea is to solve the minimization problem on the unknown part of the support. Formally, assume that $J_0$ is knwon, we are interested in the following problem:\n",
    "$$\\min \\limits_{\\mathbf{x} \\in \\mathbb{K}^{n}} ||\\mathbf{x}_{(\\bar{J_0})}||_{0} \\text{ subject to } \\mathbf{y} = \\mathsf{A} \\mathbf{x},$$\n",
    "where $\\bar{J_0}$ denotes the complement of $J_0$.\n",
    "\n",
    "They also proved that the known support has a benefit in the recovery since it provides higher bound on the sparsity. A necessary and sufficient recovery confition for the unique recovery of the vector $\\mathbf{x}$ from measurements $\\mathbf{y} = \\mathsf{A} \\mathbf{x}$ is given by \n",
    "$$|\\text{supp} \\left(\\mathbf{x}\\right)| < \\frac{\\text{spark} \\left(\\mathsf{A}\\right) + |J_0|}{2}$$ \n",
    "\n",
    "Since $\\text{spark} \\left(\\mathsf{A}\\right) \\leq m + 1$, we immediately have an upper-bound on the number of measurements $ m \\geq 2k - |J_0|$.\n",
    "\n",
    "Let's run a simple example!\n",
    "\n"
   ]
  },
  {
   "cell_type": "code",
   "execution_count": 6,
   "metadata": {},
   "outputs": [
    {
     "name": "stdout",
     "output_type": "stream",
     "text": [
      "Number of measurements: 22\n",
      "Support recovery - IHT: True\n"
     ]
    },
    {
     "name": "stderr",
     "output_type": "stream",
     "text": [
      "/home/abesson/anaconda3/envs/spl2018/lib/python3.6/site-packages/numpy/core/numeric.py:492: ComplexWarning: Casting complex values to real discards the imaginary part\n",
      "  return array(a, dtype, copy=False, order=order)\n"
     ]
    },
    {
     "data": {
      "image/png": "[encoded data removed]",
      "text/plain": [
       "<Figure size 432x288 with 1 Axes>"
      ]
     },
     "metadata": {},
     "output_type": "display_data"
    }
   ],
   "source": [
    "# General parameters of the simulation\n",
    "m = 22\n",
    "n_pks = 8\n",
    "print('Number of measurements: {}'.format(m))\n",
    "\n",
    "# Generate Gaussian sensing matrix\n",
    "stdev = 1 / np.sqrt(m)\n",
    "A = ut.gaussian_matrix(m, n, mean=0, stdev=stdev, orthogonalize=True)\n",
    "\n",
    "# Signal vector\n",
    "x = np.random.randn(n, 1)\n",
    "ind = np.random.permutation(n)\n",
    "x[ind[:n-k]] = 0\n",
    "supp_x = ind[n-k:]\n",
    "\n",
    "# Known support\n",
    "pks = supp_x[:n_pks]\n",
    "\n",
    "# Measurements\n",
    "y = np.matmul(A, x)\n",
    "\n",
    "# CS signal recovery with orthogonal matching pursuit\n",
    "iht_algo = iht.IHT(measurements=y, A=A, k=k, acceleration='normalized', pks=pks, verbose='NONE')\n",
    "x_rec, supp_x_rec = iht_algo.solve()\n",
    "\n",
    "# Support recovery\n",
    "proba_recovery_smv = set(supp_x_rec) == set(supp_x)\n",
    "print('Support recovery - IHT: {}'.format(proba_recovery_smv))\n",
    "\n",
    "# Display the results\n",
    "plt.figure()\n",
    "plt.plot(x, color='red', marker='x', label='Reference')\n",
    "plt.plot(x_rec, color='blue', marker='o', linestyle='None', label=iht_algo.name)\n",
    "plt.legend()\n",
    "plt.show()\n",
    "\n"
   ]
  },
  {
   "cell_type": "markdown",
   "metadata": {},
   "source": [
    "#### b. Rank-aware recovery guarantee for the MMV problem \n",
    "Here we come to the main result of this notebook. We have demonstrated that in case partial support is known, a sufficient condition for the unique recovery of $\\mathsf{X}$ from $\\mathsf{Y}$ is \n",
    "\n",
    "$$|\\text{supp} \\left(\\mathsf{X}\\right)| < \\frac{\\text{spark} \\left(\\mathsf{A}\\right) + \\text{rank} \\left(\\mathsf{Y}_a\\right) - 1}{2},$$\n",
    "where $\\mathsf{Y}_a = [\\mathsf{Y}, \\mathsf{A}_{J_0}]$ is an augmented measurement matrix.\n",
    "\n",
    "The intuition is rather clear. We use the partial support to augment the measurement subspace $\\mathcal{R} \\left(\\mathsf{Y}\\right)$ with vectors from $\\mathcal{R} \\left(\\mathsf{A}_{J_0}\\right)$. Thus, such a result is optimal when the rank of $\\mathsf{X}_{(J_0)}$ is low while the columns of $\\mathsf{A}_{J_0}$ are linearly independent in such a way that the effect of $\\mathcal{R} \\left(\\mathsf{A}_{J_0}\\right)$ on the measurements is maximized. \n",
    "Let's draw a simple example to illustrate this!"
   ]
  },
  {
   "cell_type": "code",
   "execution_count": 7,
   "metadata": {},
   "outputs": [
    {
     "name": "stdout",
     "output_type": "stream",
     "text": [
      "Number of measurements: 19\n",
      "******** MUSIC algorithm ********\n",
      "WARNING: Rank of the measurements is lower than k. MUSIC may fail.\n",
      "Support recovery - MUSIC: False\n",
      "******** MUSIC algorithm ********\n",
      "WARNING: Rank of the measurements is lower than k. MUSIC may fail.\n",
      "Support recovery - MUSIC - PKS: True\n"
     ]
    }
   ],
   "source": [
    "# Seed number\n",
    "prng = np.random.RandomState(seed=2)\n",
    "\n",
    "# General parameters of the simulation\n",
    "n = 64\n",
    "N = 128\n",
    "k = 9\n",
    "n_pks = 8\n",
    "m = 19\n",
    "print('Number of measurements: {}'.format(m))\n",
    "\n",
    "# Generate Gaussian sensing matrix\n",
    "stdev = 1 / np.sqrt(m)\n",
    "A = ut.gaussian_matrix(m, n, mean=0, stdev=stdev, orthogonalize=True)\n",
    "\n",
    "# Signal matrix with full rank\n",
    "X = np.zeros(shape=(n, N))\n",
    "\n",
    "# Known support\n",
    "row_supp = np.random.permutation(n)\n",
    "pks = row_supp[:n_pks]\n",
    "X[pks] = 1\n",
    "\n",
    "# Complement of the known support\n",
    "J1 = row_supp[n_pks:k+n_pks]\n",
    "X[J1] = np.random.randn(len(J1), N).copy()\n",
    "supp_X = np.union1d(pks, J1).astype(int)\n",
    "\n",
    "# Measurements\n",
    "Y = np.matmul(A, X)\n",
    "\n",
    "# MMV signal recovery with MUSIC\n",
    "music_mmv = music.MUSIC(measurements=Y, A=A, k=len(J1)+len(pks), rank=len(J1)+1)\n",
    "X_rec, supp_X_rec = music_mmv.solve()\n",
    "\n",
    "# Support recovery\n",
    "proba_recovery_mmv = set(supp_X_rec) == set(supp_X)\n",
    "print('Support recovery - MUSIC: {}'.format(proba_recovery_mmv))\n",
    "\n",
    "# MMV signal recovery with MUSIC\n",
    "music_mmv = music.MUSIC(measurements=Y, A=A, k=len(J1)+len(pks), rank=len(J1)+1, pks=pks)\n",
    "_, supp_X_rec_pks = music_mmv.solve()\n",
    "\n",
    "# Support recovery\n",
    "proba_recovery_mmv_pks = set(supp_X_rec_pks) == set(supp_X)\n",
    "print('Support recovery - MUSIC - PKS: {}'.format(proba_recovery_mmv_pks))\n"
   ]
  }
 ],
 "metadata": {
  "kernelspec": {
   "display_name": "Python 3",
   "language": "python",
   "name": "python3"
  },
  "language_info": {
   "codemirror_mode": {
    "name": "ipython",
    "version": 3
   },
   "file_extension": ".py",
   "mimetype": "text/x-python",
   "name": "python",
   "nbconvert_exporter": "python",
   "pygments_lexer": "ipython3",
   "version": "3.6.2"
  }
 },
 "nbformat": 4,
 "nbformat_minor": 1
}
